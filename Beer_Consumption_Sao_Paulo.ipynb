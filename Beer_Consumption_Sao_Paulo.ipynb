{
  "nbformat": 4,
  "nbformat_minor": 0,
  "metadata": {
    "colab": {
      "name": "Beer_Consumption_Sao_Paulo.ipynb",
      "provenance": []
    },
    "kernelspec": {
      "name": "python3",
      "display_name": "Python 3"
    },
    "language_info": {
      "name": "python"
    }
  },
  "cells": [
    {
      "cell_type": "code",
      "metadata": {
        "id": "adRUGKw0LaFq"
      },
      "source": [
        "import matplotlib.pyplot as plt\n",
        "import pandas as pd\n",
        "import numpy as np"
      ],
      "execution_count": 237,
      "outputs": []
    },
    {
      "cell_type": "code",
      "metadata": {
        "colab": {
          "base_uri": "https://localhost:8080/",
          "height": 206
        },
        "id": "jikF7Pp7LqBo",
        "outputId": "806fd148-d066-4abf-ffed-275faa1f93d6"
      },
      "source": [
        "df=pd.read_csv(\"Consumo_cerveja.csv\")\n",
        "df.head()"
      ],
      "execution_count": 238,
      "outputs": [
        {
          "output_type": "execute_result",
          "data": {
            "text/html": [
              "<div>\n",
              "<style scoped>\n",
              "    .dataframe tbody tr th:only-of-type {\n",
              "        vertical-align: middle;\n",
              "    }\n",
              "\n",
              "    .dataframe tbody tr th {\n",
              "        vertical-align: top;\n",
              "    }\n",
              "\n",
              "    .dataframe thead th {\n",
              "        text-align: right;\n",
              "    }\n",
              "</style>\n",
              "<table border=\"1\" class=\"dataframe\">\n",
              "  <thead>\n",
              "    <tr style=\"text-align: right;\">\n",
              "      <th></th>\n",
              "      <th>Data</th>\n",
              "      <th>Temperatura Media (C)</th>\n",
              "      <th>Temperatura Minima (C)</th>\n",
              "      <th>Temperatura Maxima (C)</th>\n",
              "      <th>Precipitacao (mm)</th>\n",
              "      <th>Final de Semana</th>\n",
              "      <th>Consumo de cerveja (litros)</th>\n",
              "    </tr>\n",
              "  </thead>\n",
              "  <tbody>\n",
              "    <tr>\n",
              "      <th>0</th>\n",
              "      <td>2015-01-01</td>\n",
              "      <td>27,3</td>\n",
              "      <td>23,9</td>\n",
              "      <td>32,5</td>\n",
              "      <td>0</td>\n",
              "      <td>0.0</td>\n",
              "      <td>25.461</td>\n",
              "    </tr>\n",
              "    <tr>\n",
              "      <th>1</th>\n",
              "      <td>2015-01-02</td>\n",
              "      <td>27,02</td>\n",
              "      <td>24,5</td>\n",
              "      <td>33,5</td>\n",
              "      <td>0</td>\n",
              "      <td>0.0</td>\n",
              "      <td>28.972</td>\n",
              "    </tr>\n",
              "    <tr>\n",
              "      <th>2</th>\n",
              "      <td>2015-01-03</td>\n",
              "      <td>24,82</td>\n",
              "      <td>22,4</td>\n",
              "      <td>29,9</td>\n",
              "      <td>0</td>\n",
              "      <td>1.0</td>\n",
              "      <td>30.814</td>\n",
              "    </tr>\n",
              "    <tr>\n",
              "      <th>3</th>\n",
              "      <td>2015-01-04</td>\n",
              "      <td>23,98</td>\n",
              "      <td>21,5</td>\n",
              "      <td>28,6</td>\n",
              "      <td>1,2</td>\n",
              "      <td>1.0</td>\n",
              "      <td>29.799</td>\n",
              "    </tr>\n",
              "    <tr>\n",
              "      <th>4</th>\n",
              "      <td>2015-01-05</td>\n",
              "      <td>23,82</td>\n",
              "      <td>21</td>\n",
              "      <td>28,3</td>\n",
              "      <td>0</td>\n",
              "      <td>0.0</td>\n",
              "      <td>28.900</td>\n",
              "    </tr>\n",
              "  </tbody>\n",
              "</table>\n",
              "</div>"
            ],
            "text/plain": [
              "         Data  ... Consumo de cerveja (litros)\n",
              "0  2015-01-01  ...                      25.461\n",
              "1  2015-01-02  ...                      28.972\n",
              "2  2015-01-03  ...                      30.814\n",
              "3  2015-01-04  ...                      29.799\n",
              "4  2015-01-05  ...                      28.900\n",
              "\n",
              "[5 rows x 7 columns]"
            ]
          },
          "metadata": {
            "tags": []
          },
          "execution_count": 238
        }
      ]
    },
    {
      "cell_type": "code",
      "metadata": {
        "colab": {
          "base_uri": "https://localhost:8080/"
        },
        "id": "TFmOUfRlL1Ub",
        "outputId": "87c74484-af3e-4a6f-f3c3-19e770b02146"
      },
      "source": [
        "df.info()"
      ],
      "execution_count": 239,
      "outputs": [
        {
          "output_type": "stream",
          "text": [
            "<class 'pandas.core.frame.DataFrame'>\n",
            "RangeIndex: 941 entries, 0 to 940\n",
            "Data columns (total 7 columns):\n",
            " #   Column                       Non-Null Count  Dtype  \n",
            "---  ------                       --------------  -----  \n",
            " 0   Data                         365 non-null    object \n",
            " 1   Temperatura Media (C)        365 non-null    object \n",
            " 2   Temperatura Minima (C)       365 non-null    object \n",
            " 3   Temperatura Maxima (C)       365 non-null    object \n",
            " 4   Precipitacao (mm)            365 non-null    object \n",
            " 5   Final de Semana              365 non-null    float64\n",
            " 6   Consumo de cerveja (litros)  365 non-null    float64\n",
            "dtypes: float64(2), object(5)\n",
            "memory usage: 51.6+ KB\n"
          ],
          "name": "stdout"
        }
      ]
    },
    {
      "cell_type": "code",
      "metadata": {
        "id": "WgVOLXoSRSuE"
      },
      "source": [
        "df=df.loc[:364,:]"
      ],
      "execution_count": 240,
      "outputs": []
    },
    {
      "cell_type": "code",
      "metadata": {
        "colab": {
          "base_uri": "https://localhost:8080/"
        },
        "id": "X6ebKY5kMpxj",
        "outputId": "7beae420-7acc-467c-dd49-31ee5ceda02e"
      },
      "source": [
        "for i in range(0,365):\n",
        "  df['Temperatura Maxima (C)'][i]=df['Temperatura Maxima (C)'][i].replace(',','.')\n",
        "  df['Temperatura Media (C)'][i]=df['Temperatura Media (C)'][i].replace(',','.')\n",
        "  df['Temperatura Minima (C)'][i]=df['Temperatura Minima (C)'][i].replace(',','.')\n",
        "  df['Precipitacao (mm)'][i]=df['Precipitacao (mm)'][i].replace(',','.')"
      ],
      "execution_count": 241,
      "outputs": [
        {
          "output_type": "stream",
          "text": [
            "/usr/local/lib/python3.7/dist-packages/ipykernel_launcher.py:2: SettingWithCopyWarning: \n",
            "A value is trying to be set on a copy of a slice from a DataFrame\n",
            "\n",
            "See the caveats in the documentation: https://pandas.pydata.org/pandas-docs/stable/user_guide/indexing.html#returning-a-view-versus-a-copy\n",
            "  \n",
            "/usr/local/lib/python3.7/dist-packages/ipykernel_launcher.py:3: SettingWithCopyWarning: \n",
            "A value is trying to be set on a copy of a slice from a DataFrame\n",
            "\n",
            "See the caveats in the documentation: https://pandas.pydata.org/pandas-docs/stable/user_guide/indexing.html#returning-a-view-versus-a-copy\n",
            "  This is separate from the ipykernel package so we can avoid doing imports until\n",
            "/usr/local/lib/python3.7/dist-packages/ipykernel_launcher.py:4: SettingWithCopyWarning: \n",
            "A value is trying to be set on a copy of a slice from a DataFrame\n",
            "\n",
            "See the caveats in the documentation: https://pandas.pydata.org/pandas-docs/stable/user_guide/indexing.html#returning-a-view-versus-a-copy\n",
            "  after removing the cwd from sys.path.\n",
            "/usr/local/lib/python3.7/dist-packages/ipykernel_launcher.py:5: SettingWithCopyWarning: \n",
            "A value is trying to be set on a copy of a slice from a DataFrame\n",
            "\n",
            "See the caveats in the documentation: https://pandas.pydata.org/pandas-docs/stable/user_guide/indexing.html#returning-a-view-versus-a-copy\n",
            "  \"\"\"\n"
          ],
          "name": "stderr"
        }
      ]
    },
    {
      "cell_type": "code",
      "metadata": {
        "colab": {
          "base_uri": "https://localhost:8080/",
          "height": 310
        },
        "id": "2hFTMSfmNEbp",
        "outputId": "4868d11c-f430-4fc4-d164-da05f6e4b5be"
      },
      "source": [
        "df.tail()"
      ],
      "execution_count": 242,
      "outputs": [
        {
          "output_type": "execute_result",
          "data": {
            "text/html": [
              "<div>\n",
              "<style scoped>\n",
              "    .dataframe tbody tr th:only-of-type {\n",
              "        vertical-align: middle;\n",
              "    }\n",
              "\n",
              "    .dataframe tbody tr th {\n",
              "        vertical-align: top;\n",
              "    }\n",
              "\n",
              "    .dataframe thead th {\n",
              "        text-align: right;\n",
              "    }\n",
              "</style>\n",
              "<table border=\"1\" class=\"dataframe\">\n",
              "  <thead>\n",
              "    <tr style=\"text-align: right;\">\n",
              "      <th></th>\n",
              "      <th>Data</th>\n",
              "      <th>Temperatura Media (C)</th>\n",
              "      <th>Temperatura Minima (C)</th>\n",
              "      <th>Temperatura Maxima (C)</th>\n",
              "      <th>Precipitacao (mm)</th>\n",
              "      <th>Final de Semana</th>\n",
              "      <th>Consumo de cerveja (litros)</th>\n",
              "    </tr>\n",
              "  </thead>\n",
              "  <tbody>\n",
              "    <tr>\n",
              "      <th>360</th>\n",
              "      <td>2015-12-27</td>\n",
              "      <td>24</td>\n",
              "      <td>21.1</td>\n",
              "      <td>28.2</td>\n",
              "      <td>13.6</td>\n",
              "      <td>1.0</td>\n",
              "      <td>32.307</td>\n",
              "    </tr>\n",
              "    <tr>\n",
              "      <th>361</th>\n",
              "      <td>2015-12-28</td>\n",
              "      <td>22.64</td>\n",
              "      <td>21.1</td>\n",
              "      <td>26.7</td>\n",
              "      <td>0</td>\n",
              "      <td>0.0</td>\n",
              "      <td>26.095</td>\n",
              "    </tr>\n",
              "    <tr>\n",
              "      <th>362</th>\n",
              "      <td>2015-12-29</td>\n",
              "      <td>21.68</td>\n",
              "      <td>20.3</td>\n",
              "      <td>24.1</td>\n",
              "      <td>10.3</td>\n",
              "      <td>0.0</td>\n",
              "      <td>22.309</td>\n",
              "    </tr>\n",
              "    <tr>\n",
              "      <th>363</th>\n",
              "      <td>2015-12-30</td>\n",
              "      <td>21.38</td>\n",
              "      <td>19.3</td>\n",
              "      <td>22.4</td>\n",
              "      <td>6.3</td>\n",
              "      <td>0.0</td>\n",
              "      <td>20.467</td>\n",
              "    </tr>\n",
              "    <tr>\n",
              "      <th>364</th>\n",
              "      <td>2015-12-31</td>\n",
              "      <td>24.76</td>\n",
              "      <td>20.2</td>\n",
              "      <td>29</td>\n",
              "      <td>0</td>\n",
              "      <td>0.0</td>\n",
              "      <td>22.446</td>\n",
              "    </tr>\n",
              "  </tbody>\n",
              "</table>\n",
              "</div>"
            ],
            "text/plain": [
              "           Data  ... Consumo de cerveja (litros)\n",
              "360  2015-12-27  ...                      32.307\n",
              "361  2015-12-28  ...                      26.095\n",
              "362  2015-12-29  ...                      22.309\n",
              "363  2015-12-30  ...                      20.467\n",
              "364  2015-12-31  ...                      22.446\n",
              "\n",
              "[5 rows x 7 columns]"
            ]
          },
          "metadata": {
            "tags": []
          },
          "execution_count": 242
        }
      ]
    },
    {
      "cell_type": "code",
      "metadata": {
        "id": "exq04x-iNa7x"
      },
      "source": [
        "df['Temperatura Maxima (C)']=df['Temperatura Maxima (C)'].astype('float64')\n",
        "df['Temperatura Media (C)']=df['Temperatura Media (C)'].astype('float64')\n",
        "df['Temperatura Minima (C)']=df['Temperatura Minima (C)'].astype('float64')\n",
        "df['Precipitacao (mm)']=df['Precipitacao (mm)'].astype('float64')"
      ],
      "execution_count": 243,
      "outputs": []
    },
    {
      "cell_type": "code",
      "metadata": {
        "colab": {
          "base_uri": "https://localhost:8080/"
        },
        "id": "dj2VJOS_ONFM",
        "outputId": "9a16cfdc-5e8e-42de-9dc5-1a7fa59e4a6f"
      },
      "source": [
        "df.info()"
      ],
      "execution_count": 244,
      "outputs": [
        {
          "output_type": "stream",
          "text": [
            "<class 'pandas.core.frame.DataFrame'>\n",
            "RangeIndex: 365 entries, 0 to 364\n",
            "Data columns (total 7 columns):\n",
            " #   Column                       Non-Null Count  Dtype  \n",
            "---  ------                       --------------  -----  \n",
            " 0   Data                         365 non-null    object \n",
            " 1   Temperatura Media (C)        365 non-null    float64\n",
            " 2   Temperatura Minima (C)       365 non-null    float64\n",
            " 3   Temperatura Maxima (C)       365 non-null    float64\n",
            " 4   Precipitacao (mm)            365 non-null    float64\n",
            " 5   Final de Semana              365 non-null    float64\n",
            " 6   Consumo de cerveja (litros)  365 non-null    float64\n",
            "dtypes: float64(6), object(1)\n",
            "memory usage: 20.1+ KB\n"
          ],
          "name": "stdout"
        }
      ]
    },
    {
      "cell_type": "code",
      "metadata": {
        "id": "j5-fCIk6QQd5"
      },
      "source": [
        "X=df[['Temperatura Media (C)','Temperatura Minima (C)','Temperatura Maxima (C)','Final de Semana','Precipitacao (mm)']]\n",
        "y=df[['Consumo de cerveja (litros)']]"
      ],
      "execution_count": 245,
      "outputs": []
    },
    {
      "cell_type": "code",
      "metadata": {
        "id": "mSnJ9vGkOOkc"
      },
      "source": [
        "from sklearn.model_selection import train_test_split\n",
        "X_train,X_test,Y_train,Y_test = train_test_split(X,y,test_size=0.2,random_state=42)"
      ],
      "execution_count": 319,
      "outputs": []
    },
    {
      "cell_type": "code",
      "metadata": {
        "id": "qISmXueGTij3"
      },
      "source": [
        "from sklearn.preprocessing import StandardScaler\n",
        "s_scaler = StandardScaler()\n",
        "X_train = s_scaler.fit_transform(X_train.astype(np.float64))\n",
        "X_test = s_scaler.transform(X_test.astype(np.float64))"
      ],
      "execution_count": 320,
      "outputs": []
    },
    {
      "cell_type": "code",
      "metadata": {
        "colab": {
          "base_uri": "https://localhost:8080/"
        },
        "id": "Fd6WsX4-Qy47",
        "outputId": "b58235b5-358e-41e1-d344-b47d743fc7cb"
      },
      "source": [
        "from sklearn.linear_model import LinearRegression\n",
        "regr = LinearRegression()\n",
        "regr.fit(X_train,Y_train)"
      ],
      "execution_count": 321,
      "outputs": [
        {
          "output_type": "execute_result",
          "data": {
            "text/plain": [
              "LinearRegression(copy_X=True, fit_intercept=True, n_jobs=None, normalize=False)"
            ]
          },
          "metadata": {
            "tags": []
          },
          "execution_count": 321
        }
      ]
    },
    {
      "cell_type": "code",
      "metadata": {
        "id": "0tOjMogLRNhI"
      },
      "source": [
        "Y_test_pred=regr.predict(X_test)\n",
        "Y_train_pred=regr.predict(X_train)"
      ],
      "execution_count": 322,
      "outputs": []
    },
    {
      "cell_type": "code",
      "metadata": {
        "colab": {
          "base_uri": "https://localhost:8080/"
        },
        "id": "AMMQ91LXR2Nf",
        "outputId": "66a8b0a5-f5a5-42e1-e92e-81df33beaea4"
      },
      "source": [
        "from sklearn.metrics import mean_squared_error, r2_score\n",
        "print('Mean squared error: %.2f'% mean_squared_error(Y_test, Y_test_pred))\n",
        "# The coefficient of determination: 1 is perfect prediction\n",
        "print('Coefficient of determination: %.2f'% r2_score(Y_test, Y_test_pred))"
      ],
      "execution_count": 323,
      "outputs": [
        {
          "output_type": "stream",
          "text": [
            "Mean squared error: 5.70\n",
            "Coefficient of determination: 0.74\n"
          ],
          "name": "stdout"
        }
      ]
    },
    {
      "cell_type": "code",
      "metadata": {
        "colab": {
          "base_uri": "https://localhost:8080/"
        },
        "id": "jRRXjE_ESDc1",
        "outputId": "05096738-aa6f-49ad-bbd4-b8b13316ba0c"
      },
      "source": [
        "print('Mean squared error: %.2f'% mean_squared_error(Y_train, Y_train_pred))\n",
        "# The coefficient of determination: 1 is perfect prediction\n",
        "print('Coefficient of determination: %.2f'% r2_score(Y_train, Y_train_pred))"
      ],
      "execution_count": 324,
      "outputs": [
        {
          "output_type": "stream",
          "text": [
            "Mean squared error: 5.31\n",
            "Coefficient of determination: 0.71\n"
          ],
          "name": "stdout"
        }
      ]
    },
    {
      "cell_type": "code",
      "metadata": {
        "id": "NQzKJVyATCdU"
      },
      "source": [
        "from tensorflow.keras.models import Sequential\n",
        "from tensorflow.keras.layers import Dense, Activation\n",
        "from tensorflow.keras.optimizers import Adam\n",
        "model = Sequential()\n",
        "model.add(Dense(6,activation='relu'))\n",
        "model.add(Dense(6,activation='relu'))\n",
        "model.add(Dense(6,activation='relu'))\n",
        "model.add(Dense(6,activation='relu'))\n",
        "model.add(Dense(6,activation='relu'))\n",
        "model.add(Dense(1))\n",
        "model.compile(optimizer='Adam',loss='mean_squared_error')"
      ],
      "execution_count": 330,
      "outputs": []
    },
    {
      "cell_type": "code",
      "metadata": {
        "colab": {
          "base_uri": "https://localhost:8080/"
        },
        "id": "j_DfH--cUCrw",
        "outputId": "678bbebe-f58a-4b33-dc1e-b85ef579ec99"
      },
      "source": [
        "model.fit(x=X_train,y=Y_train,validation_data=(X_test,Y_test),batch_size=32,epochs=100)\n",
        "model.summary()"
      ],
      "execution_count": 334,
      "outputs": [
        {
          "output_type": "stream",
          "text": [
            "Epoch 1/100\n",
            "10/10 [==============================] - 0s 9ms/step - loss: 8.1501 - val_loss: 8.4593\n",
            "Epoch 2/100\n",
            "10/10 [==============================] - 0s 4ms/step - loss: 8.1465 - val_loss: 8.3159\n",
            "Epoch 3/100\n",
            "10/10 [==============================] - 0s 4ms/step - loss: 8.1434 - val_loss: 8.2524\n",
            "Epoch 4/100\n",
            "10/10 [==============================] - 0s 5ms/step - loss: 8.0477 - val_loss: 8.2598\n",
            "Epoch 5/100\n",
            "10/10 [==============================] - 0s 5ms/step - loss: 7.9898 - val_loss: 8.2958\n",
            "Epoch 6/100\n",
            "10/10 [==============================] - 0s 4ms/step - loss: 7.9256 - val_loss: 8.1774\n",
            "Epoch 7/100\n",
            "10/10 [==============================] - 0s 4ms/step - loss: 7.8943 - val_loss: 8.0654\n",
            "Epoch 8/100\n",
            "10/10 [==============================] - 0s 5ms/step - loss: 7.8936 - val_loss: 8.1159\n",
            "Epoch 9/100\n",
            "10/10 [==============================] - 0s 4ms/step - loss: 7.7845 - val_loss: 8.0738\n",
            "Epoch 10/100\n",
            "10/10 [==============================] - 0s 4ms/step - loss: 7.7671 - val_loss: 7.9320\n",
            "Epoch 11/100\n",
            "10/10 [==============================] - 0s 7ms/step - loss: 7.6742 - val_loss: 7.8506\n",
            "Epoch 12/100\n",
            "10/10 [==============================] - 0s 5ms/step - loss: 7.6396 - val_loss: 7.8978\n",
            "Epoch 13/100\n",
            "10/10 [==============================] - 0s 5ms/step - loss: 7.6830 - val_loss: 7.8408\n",
            "Epoch 14/100\n",
            "10/10 [==============================] - 0s 5ms/step - loss: 7.5915 - val_loss: 7.7097\n",
            "Epoch 15/100\n",
            "10/10 [==============================] - 0s 5ms/step - loss: 7.5457 - val_loss: 7.6565\n",
            "Epoch 16/100\n",
            "10/10 [==============================] - 0s 4ms/step - loss: 7.4523 - val_loss: 7.7806\n",
            "Epoch 17/100\n",
            "10/10 [==============================] - 0s 5ms/step - loss: 7.5035 - val_loss: 7.7974\n",
            "Epoch 18/100\n",
            "10/10 [==============================] - 0s 4ms/step - loss: 7.4717 - val_loss: 7.7129\n",
            "Epoch 19/100\n",
            "10/10 [==============================] - 0s 5ms/step - loss: 7.4058 - val_loss: 7.6898\n",
            "Epoch 20/100\n",
            "10/10 [==============================] - 0s 4ms/step - loss: 7.3721 - val_loss: 7.6347\n",
            "Epoch 21/100\n",
            "10/10 [==============================] - 0s 4ms/step - loss: 7.3056 - val_loss: 7.5899\n",
            "Epoch 22/100\n",
            "10/10 [==============================] - 0s 4ms/step - loss: 7.2782 - val_loss: 7.5222\n",
            "Epoch 23/100\n",
            "10/10 [==============================] - 0s 4ms/step - loss: 7.2717 - val_loss: 7.5810\n",
            "Epoch 24/100\n",
            "10/10 [==============================] - 0s 4ms/step - loss: 7.2763 - val_loss: 7.5400\n",
            "Epoch 25/100\n",
            "10/10 [==============================] - 0s 6ms/step - loss: 7.1798 - val_loss: 7.4472\n",
            "Epoch 26/100\n",
            "10/10 [==============================] - 0s 4ms/step - loss: 7.2101 - val_loss: 7.4255\n",
            "Epoch 27/100\n",
            "10/10 [==============================] - 0s 7ms/step - loss: 7.1311 - val_loss: 7.5041\n",
            "Epoch 28/100\n",
            "10/10 [==============================] - 0s 4ms/step - loss: 7.0922 - val_loss: 7.4295\n",
            "Epoch 29/100\n",
            "10/10 [==============================] - 0s 4ms/step - loss: 7.0686 - val_loss: 7.3285\n",
            "Epoch 30/100\n",
            "10/10 [==============================] - 0s 4ms/step - loss: 7.0263 - val_loss: 7.1981\n",
            "Epoch 31/100\n",
            "10/10 [==============================] - 0s 6ms/step - loss: 7.0045 - val_loss: 7.1211\n",
            "Epoch 32/100\n",
            "10/10 [==============================] - 0s 4ms/step - loss: 7.0257 - val_loss: 7.1591\n",
            "Epoch 33/100\n",
            "10/10 [==============================] - 0s 7ms/step - loss: 6.9657 - val_loss: 7.1360\n",
            "Epoch 34/100\n",
            "10/10 [==============================] - 0s 5ms/step - loss: 6.9531 - val_loss: 7.0674\n",
            "Epoch 35/100\n",
            "10/10 [==============================] - 0s 5ms/step - loss: 6.8731 - val_loss: 7.0519\n",
            "Epoch 36/100\n",
            "10/10 [==============================] - 0s 5ms/step - loss: 6.8395 - val_loss: 7.0510\n",
            "Epoch 37/100\n",
            "10/10 [==============================] - 0s 6ms/step - loss: 6.8361 - val_loss: 7.0443\n",
            "Epoch 38/100\n",
            "10/10 [==============================] - 0s 5ms/step - loss: 6.7363 - val_loss: 6.9771\n",
            "Epoch 39/100\n",
            "10/10 [==============================] - 0s 5ms/step - loss: 6.8079 - val_loss: 6.9562\n",
            "Epoch 40/100\n",
            "10/10 [==============================] - 0s 5ms/step - loss: 6.7148 - val_loss: 7.0521\n",
            "Epoch 41/100\n",
            "10/10 [==============================] - 0s 5ms/step - loss: 6.7178 - val_loss: 6.9942\n",
            "Epoch 42/100\n",
            "10/10 [==============================] - 0s 7ms/step - loss: 6.6747 - val_loss: 6.9382\n",
            "Epoch 43/100\n",
            "10/10 [==============================] - 0s 5ms/step - loss: 6.6426 - val_loss: 6.8988\n",
            "Epoch 44/100\n",
            "10/10 [==============================] - 0s 4ms/step - loss: 6.6154 - val_loss: 6.9110\n",
            "Epoch 45/100\n",
            "10/10 [==============================] - 0s 4ms/step - loss: 6.5796 - val_loss: 6.8440\n",
            "Epoch 46/100\n",
            "10/10 [==============================] - 0s 4ms/step - loss: 6.5713 - val_loss: 6.8628\n",
            "Epoch 47/100\n",
            "10/10 [==============================] - 0s 4ms/step - loss: 6.5530 - val_loss: 6.8380\n",
            "Epoch 48/100\n",
            "10/10 [==============================] - 0s 4ms/step - loss: 6.5179 - val_loss: 6.8026\n",
            "Epoch 49/100\n",
            "10/10 [==============================] - 0s 5ms/step - loss: 6.5035 - val_loss: 6.7942\n",
            "Epoch 50/100\n",
            "10/10 [==============================] - 0s 5ms/step - loss: 6.5545 - val_loss: 6.7702\n",
            "Epoch 51/100\n",
            "10/10 [==============================] - 0s 5ms/step - loss: 6.4179 - val_loss: 6.9247\n",
            "Epoch 52/100\n",
            "10/10 [==============================] - 0s 4ms/step - loss: 6.4725 - val_loss: 6.8957\n",
            "Epoch 53/100\n",
            "10/10 [==============================] - 0s 4ms/step - loss: 6.4466 - val_loss: 6.8245\n",
            "Epoch 54/100\n",
            "10/10 [==============================] - 0s 4ms/step - loss: 6.4094 - val_loss: 6.7709\n",
            "Epoch 55/100\n",
            "10/10 [==============================] - 0s 4ms/step - loss: 6.3677 - val_loss: 6.8129\n",
            "Epoch 56/100\n",
            "10/10 [==============================] - 0s 4ms/step - loss: 6.4024 - val_loss: 6.7130\n",
            "Epoch 57/100\n",
            "10/10 [==============================] - 0s 4ms/step - loss: 6.3590 - val_loss: 6.5861\n",
            "Epoch 58/100\n",
            "10/10 [==============================] - 0s 4ms/step - loss: 6.4034 - val_loss: 6.5505\n",
            "Epoch 59/100\n",
            "10/10 [==============================] - 0s 6ms/step - loss: 6.3423 - val_loss: 6.6135\n",
            "Epoch 60/100\n",
            "10/10 [==============================] - 0s 5ms/step - loss: 6.2815 - val_loss: 6.5630\n",
            "Epoch 61/100\n",
            "10/10 [==============================] - 0s 5ms/step - loss: 6.2759 - val_loss: 6.5029\n",
            "Epoch 62/100\n",
            "10/10 [==============================] - 0s 4ms/step - loss: 6.2452 - val_loss: 6.4428\n",
            "Epoch 63/100\n",
            "10/10 [==============================] - 0s 4ms/step - loss: 6.2726 - val_loss: 6.4953\n",
            "Epoch 64/100\n",
            "10/10 [==============================] - 0s 5ms/step - loss: 6.2334 - val_loss: 6.4541\n",
            "Epoch 65/100\n",
            "10/10 [==============================] - 0s 4ms/step - loss: 6.2127 - val_loss: 6.4691\n",
            "Epoch 66/100\n",
            "10/10 [==============================] - 0s 4ms/step - loss: 6.1850 - val_loss: 6.4277\n",
            "Epoch 67/100\n",
            "10/10 [==============================] - 0s 4ms/step - loss: 6.1929 - val_loss: 6.3771\n",
            "Epoch 68/100\n",
            "10/10 [==============================] - 0s 4ms/step - loss: 6.1525 - val_loss: 6.4086\n",
            "Epoch 69/100\n",
            "10/10 [==============================] - 0s 4ms/step - loss: 6.1665 - val_loss: 6.4969\n",
            "Epoch 70/100\n",
            "10/10 [==============================] - 0s 6ms/step - loss: 6.1621 - val_loss: 6.3994\n",
            "Epoch 71/100\n",
            "10/10 [==============================] - 0s 4ms/step - loss: 6.0461 - val_loss: 6.3164\n",
            "Epoch 72/100\n",
            "10/10 [==============================] - 0s 4ms/step - loss: 6.1824 - val_loss: 6.2177\n",
            "Epoch 73/100\n",
            "10/10 [==============================] - 0s 4ms/step - loss: 6.1246 - val_loss: 6.2121\n",
            "Epoch 74/100\n",
            "10/10 [==============================] - 0s 4ms/step - loss: 6.0839 - val_loss: 6.2859\n",
            "Epoch 75/100\n",
            "10/10 [==============================] - 0s 4ms/step - loss: 6.1171 - val_loss: 6.2957\n",
            "Epoch 76/100\n",
            "10/10 [==============================] - 0s 4ms/step - loss: 6.1523 - val_loss: 6.4222\n",
            "Epoch 77/100\n",
            "10/10 [==============================] - 0s 4ms/step - loss: 6.1013 - val_loss: 6.2477\n",
            "Epoch 78/100\n",
            "10/10 [==============================] - 0s 5ms/step - loss: 6.0414 - val_loss: 6.1526\n",
            "Epoch 79/100\n",
            "10/10 [==============================] - 0s 4ms/step - loss: 6.0636 - val_loss: 6.1351\n",
            "Epoch 80/100\n",
            "10/10 [==============================] - 0s 4ms/step - loss: 6.0387 - val_loss: 6.0508\n",
            "Epoch 81/100\n",
            "10/10 [==============================] - 0s 4ms/step - loss: 5.9963 - val_loss: 6.0459\n",
            "Epoch 82/100\n",
            "10/10 [==============================] - 0s 5ms/step - loss: 5.9933 - val_loss: 6.1011\n",
            "Epoch 83/100\n",
            "10/10 [==============================] - 0s 4ms/step - loss: 5.9660 - val_loss: 6.0918\n",
            "Epoch 84/100\n",
            "10/10 [==============================] - 0s 5ms/step - loss: 5.9769 - val_loss: 6.0962\n",
            "Epoch 85/100\n",
            "10/10 [==============================] - 0s 4ms/step - loss: 5.9516 - val_loss: 6.1813\n",
            "Epoch 86/100\n",
            "10/10 [==============================] - 0s 5ms/step - loss: 5.9488 - val_loss: 6.1612\n",
            "Epoch 87/100\n",
            "10/10 [==============================] - 0s 4ms/step - loss: 5.9403 - val_loss: 6.1617\n",
            "Epoch 88/100\n",
            "10/10 [==============================] - 0s 3ms/step - loss: 5.9592 - val_loss: 6.1944\n",
            "Epoch 89/100\n",
            "10/10 [==============================] - 0s 4ms/step - loss: 5.9440 - val_loss: 6.2591\n",
            "Epoch 90/100\n",
            "10/10 [==============================] - 0s 4ms/step - loss: 5.9560 - val_loss: 6.0887\n",
            "Epoch 91/100\n",
            "10/10 [==============================] - 0s 4ms/step - loss: 5.9786 - val_loss: 6.1297\n",
            "Epoch 92/100\n",
            "10/10 [==============================] - 0s 4ms/step - loss: 5.9082 - val_loss: 6.0863\n",
            "Epoch 93/100\n",
            "10/10 [==============================] - 0s 4ms/step - loss: 5.8949 - val_loss: 6.1025\n",
            "Epoch 94/100\n",
            "10/10 [==============================] - 0s 5ms/step - loss: 5.8568 - val_loss: 6.0769\n",
            "Epoch 95/100\n",
            "10/10 [==============================] - 0s 5ms/step - loss: 5.8604 - val_loss: 6.0731\n",
            "Epoch 96/100\n",
            "10/10 [==============================] - 0s 5ms/step - loss: 5.8712 - val_loss: 6.0251\n",
            "Epoch 97/100\n",
            "10/10 [==============================] - 0s 5ms/step - loss: 5.8513 - val_loss: 6.1082\n",
            "Epoch 98/100\n",
            "10/10 [==============================] - 0s 4ms/step - loss: 5.8801 - val_loss: 6.1282\n",
            "Epoch 99/100\n",
            "10/10 [==============================] - 0s 4ms/step - loss: 5.8194 - val_loss: 6.0446\n",
            "Epoch 100/100\n",
            "10/10 [==============================] - 0s 4ms/step - loss: 5.8480 - val_loss: 6.0141\n",
            "Model: \"sequential_33\"\n",
            "_________________________________________________________________\n",
            "Layer (type)                 Output Shape              Param #   \n",
            "=================================================================\n",
            "dense_173 (Dense)            (None, 6)                 36        \n",
            "_________________________________________________________________\n",
            "dense_174 (Dense)            (None, 6)                 42        \n",
            "_________________________________________________________________\n",
            "dense_175 (Dense)            (None, 6)                 42        \n",
            "_________________________________________________________________\n",
            "dense_176 (Dense)            (None, 6)                 42        \n",
            "_________________________________________________________________\n",
            "dense_177 (Dense)            (None, 6)                 42        \n",
            "_________________________________________________________________\n",
            "dense_178 (Dense)            (None, 1)                 7         \n",
            "=================================================================\n",
            "Total params: 211\n",
            "Trainable params: 211\n",
            "Non-trainable params: 0\n",
            "_________________________________________________________________\n"
          ],
          "name": "stdout"
        }
      ]
    },
    {
      "cell_type": "code",
      "metadata": {
        "id": "xM1h9BrnUpFa"
      },
      "source": [
        "y_pred = model.predict(X_test)"
      ],
      "execution_count": 335,
      "outputs": []
    },
    {
      "cell_type": "code",
      "metadata": {
        "colab": {
          "base_uri": "https://localhost:8080/"
        },
        "id": "T5e7fb50VVlr",
        "outputId": "ff497230-9786-4b77-994d-a0f09a648bd3"
      },
      "source": [
        "from sklearn import metrics\n",
        "print('MAE:', metrics.mean_absolute_error(Y_test, y_pred))  \n",
        "print('MSE:', metrics.mean_squared_error(Y_test, y_pred))  \n",
        "print('RMSE:', np.sqrt(metrics.mean_squared_error(Y_test, y_pred)))\n",
        "print('VarScore:',metrics.explained_variance_score(Y_test,y_pred))"
      ],
      "execution_count": 336,
      "outputs": [
        {
          "output_type": "stream",
          "text": [
            "MAE: 1.9880567723104399\n",
            "MSE: 6.014144362998799\n",
            "RMSE: 2.4523752492224347\n",
            "VarScore: 0.7291434219390427\n"
          ],
          "name": "stdout"
        }
      ]
    },
    {
      "cell_type": "code",
      "metadata": {
        "colab": {
          "base_uri": "https://localhost:8080/"
        },
        "id": "9ah3yxaOXFu6",
        "outputId": "8e238352-71f1-44e7-9038-acad8932366c"
      },
      "source": [
        "X_test.shape"
      ],
      "execution_count": 236,
      "outputs": [
        {
          "output_type": "execute_result",
          "data": {
            "text/plain": [
              "(92, 4)"
            ]
          },
          "metadata": {
            "tags": []
          },
          "execution_count": 236
        }
      ]
    },
    {
      "cell_type": "code",
      "metadata": {
        "colab": {
          "base_uri": "https://localhost:8080/",
          "height": 337
        },
        "id": "kV9Jld-ciyP7",
        "outputId": "eb1a3577-f803-4f03-bbaa-5a7d77bab238"
      },
      "source": [
        "fig = plt.figure(figsize=(10,5))\n",
        "plt.scatter(Y_test,y_pred)"
      ],
      "execution_count": 348,
      "outputs": [
        {
          "output_type": "execute_result",
          "data": {
            "text/plain": [
              "<matplotlib.collections.PathCollection at 0x7f5624c58d50>"
            ]
          },
          "metadata": {
            "tags": []
          },
          "execution_count": 348
        },
        {
          "output_type": "display_data",
          "data": {
            "image/png": "[encoded data removed]",
            "text/plain": [
              "<Figure size 720x360 with 1 Axes>"
            ]
          },
          "metadata": {
            "tags": [],
            "needs_background": "light"
          }
        }
      ]
    },
    {
      "cell_type": "code",
      "metadata": {
        "id": "e9RFyph1lt_y"
      },
      "source": [
        ""
      ],
      "execution_count": null,
      "outputs": []
    }
  ]
}